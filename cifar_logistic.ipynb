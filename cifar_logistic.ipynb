{
  "cells": [
    {
      "cell_type": "markdown",
      "metadata": {
        "id": "view-in-github",
        "colab_type": "text"
      },
      "source": [
        "<a href=\"https://colab.research.google.com/github/norayehia/cifar_data_computervision/blob/main/cifar_logistic.ipynb\" target=\"_parent\"><img src=\"https://colab.research.google.com/assets/colab-badge.svg\" alt=\"Open In Colab\"/></a>"
      ]
    },
    {
      "cell_type": "code",
      "execution_count": null,
      "id": "f00f1109",
      "metadata": {
        "id": "f00f1109"
      },
      "outputs": [],
      "source": [
        "import numpy as np\n",
        "import matplotlib.pyplot as plt\n",
        "import os\n",
        "import cv2"
      ]
    },
    {
      "cell_type": "code",
      "execution_count": null,
      "id": "8db80ce3",
      "metadata": {
        "id": "8db80ce3"
      },
      "outputs": [],
      "source": [
        "# Common imports\n",
        "import numpy as np\n",
        "import os\n",
        "\n",
        "# to make this notebook's output stable across runs\n",
        "np.random.seed(42)\n",
        "\n",
        "# To plot pretty figures\n",
        "%matplotlib inline\n",
        "import matplotlib\n",
        "import matplotlib.pyplot as plt\n",
        "plt.rcParams['axes.labelsize'] = 14\n",
        "plt.rcParams['xtick.labelsize'] = 12\n",
        "plt.rcParams['ytick.labelsize'] = 12\n",
        "\n",
        "# Where to save the figures\n",
        "#فولدر اخزن فيه \n",
        "PROJECT_ROOT_DIR = \".\"\n",
        "#جوا الفولدر ده \n",
        "NB_ID = \"sevens\"\n",
        "\n",
        "# create the directory if it does not exist\n",
        "os.makedirs(os.path.join(PROJECT_ROOT_DIR, \"images\", NB_ID), exist_ok = True)\n",
        "        \n",
        "def save_fig(fig_id, tight_layout=True):\n",
        "    path = os.path.join(PROJECT_ROOT_DIR, \"images\", NB_ID, fig_id + \".png\")\n",
        "    print(\"Saving figure\", fig_id)\n",
        "    if tight_layout:\n",
        "        plt.tight_layout()\n",
        "    plt.savefig(path, format='png', dpi=300)"
      ]
    },
    {
      "cell_type": "code",
      "execution_count": null,
      "id": "b4dc09a7",
      "metadata": {
        "id": "b4dc09a7"
      },
      "outputs": [],
      "source": [
        "import numpy as np\n",
        "import matplotlib.pyplot as plt\n",
        "import os\n",
        "import cv2\n",
        "import skimage\n",
        "from skimage.io import imread\n",
        "from skimage.color import rgb2gray \n",
        "import skimage\n",
        "from skimage import transform\n",
        "from skimage import filters\n",
        "import cv2\n",
        "from matplotlib import pyplot as plt\n",
        "from skimage.io import imread\n",
        "from skimage.color import rgb2gray \n",
        "import skimage\n",
        "import pandas as pd\n",
        "import numpy as np\n",
        "import numpy as np\n",
        "import matplotlib.pyplot as plt\n",
        "import os\n",
        "import cv2\n",
        "import skimage\n",
        "from skimage.io import imread\n",
        "from skimage.color import rgb2gray \n",
        "import skimage\n",
        "\n",
        "\n",
        "from skimage import filters"
      ]
    },
    {
      "cell_type": "code",
      "execution_count": null,
      "id": "6609fdb9",
      "metadata": {
        "id": "6609fdb9"
      },
      "outputs": [],
      "source": [
        "datadir='C://Users//win//Downloads//cifar-10//train//train'"
      ]
    },
    {
      "cell_type": "code",
      "execution_count": null,
      "id": "582fe42f",
      "metadata": {
        "id": "582fe42f"
      },
      "outputs": [],
      "source": [
        "trainingdata3 = []\n",
        "def create_training_data():\n",
        "    \n",
        "        \n",
        "       \n",
        "        for img in os.listdir(datadir):\n",
        "            \n",
        "            img_arry = rgb2gray(imread(os.path.join(datadir,img)))\n",
        "            img2 = filters.sobel( img_arry)\n",
        "            img2.max()\n",
        "            #new_arry = skimage.transform.resize(img_arry, (45,45))\n",
        "            new_arry = skimage.transform.resize(img2, (200,200))\n",
        "            trainingdata3.append(new_arry)\n",
        "create_training_data()"
      ]
    },
    {
      "cell_type": "code",
      "execution_count": null,
      "id": "977b104b",
      "metadata": {
        "id": "977b104b",
        "outputId": "9d778649-8239-45e0-cdef-90f25ccb6dcd"
      },
      "outputs": [
        {
          "name": "stdout",
          "output_type": "stream",
          "text": [
            "[[0.11719053 0.11915494 0.12111935 ... 0.11387789 0.11435669 0.11483549]\n",
            " [0.12066668 0.12215695 0.12364721 ... 0.10964395 0.11057123 0.11149852]\n",
            " [0.12414284 0.12515896 0.12617508 ... 0.10541    0.10678578 0.10816155]\n",
            " ...\n",
            " [0.03519944 0.03969374 0.04418805 ... 0.15395982 0.17785241 0.20174499]\n",
            " [0.04104354 0.04541015 0.04977676 ... 0.16255117 0.1861854  0.20981963]\n",
            " [0.04688764 0.05112656 0.05536547 ... 0.17114253 0.1945184  0.21789427]]\n"
          ]
        }
      ],
      "source": [
        "print(trainingdata3[0])"
      ]
    },
    {
      "cell_type": "code",
      "execution_count": null,
      "id": "3d54d1b1",
      "metadata": {
        "id": "3d54d1b1",
        "outputId": "7f5a023e-2ce1-4da6-ba86-75b5914b5161"
      },
      "outputs": [
        {
          "name": "stdout",
          "output_type": "stream",
          "text": [
            "50000\n"
          ]
        }
      ],
      "source": [
        "print(len(trainingdata3))"
      ]
    },
    {
      "cell_type": "code",
      "source": [
        "import numpy as np\n",
        "import pandas as pd\n",
        "trainingdata3=np.array(trainingdata3)\n",
        "\n",
        "#yy=np.array(yy)\n",
        "#b_flatten = b.reshape(b.shape[0], -1).To get rid of ValueError: Found array with dim 3. Estimator expected <= 2. with the classfier it need 1d\n",
        "\n",
        "trainingdata3= trainingdata3.reshape(trainingdata3.shape[0], -1)"
      ],
      "metadata": {
        "id": "7efdoTV-uhR8"
      },
      "id": "7efdoTV-uhR8",
      "execution_count": null,
      "outputs": []
    },
    {
      "cell_type": "code",
      "execution_count": null,
      "id": "0b5d9b0c",
      "metadata": {
        "id": "0b5d9b0c"
      },
      "outputs": [],
      "source": [
        "columns_to_be_removed = ['id']\n",
        "sourceFileName=\"C:/Users/win/Downloads/cifar-10/trainLabels.csv\"\n",
        "label = pd.read_csv(sourceFileName).drop(columns_to_be_removed, axis = 'columns')"
      ]
    },
    {
      "cell_type": "code",
      "execution_count": null,
      "id": "2c0ad34a",
      "metadata": {
        "id": "2c0ad34a"
      },
      "outputs": [],
      "source": [
        "from sklearn.model_selection import train_test_split\n",
        "bb_train, bb_test, yy_train, yy_test = train_test_split(trainingdata3, label, test_size=0.15, random_state=42)"
      ]
    },
    {
      "cell_type": "code",
      "execution_count": null,
      "id": "eeea2473",
      "metadata": {
        "id": "eeea2473"
      },
      "outputs": [],
      "source": [
        "from sklearn.linear_model import SGDClassifier\n",
        "from sklearn.linear_model import LogisticRegression\n",
        "\n",
        "clf = LogisticRegression(max_iter=30, tol=0.1, solver='liblinear')\n",
        "# sgd_clf = SGDClassifier(max_iter=5, random_state=42)\n",
        "clf.fit(bb_train, yy_train)"
      ]
    },
    {
      "cell_type": "code",
      "execution_count": null,
      "id": "77f37956",
      "metadata": {
        "id": "77f37956"
      },
      "outputs": [],
      "source": [
        "yy_pred=clf.predict(bb_test)\n",
        "yy_pred"
      ]
    },
    {
      "cell_type": "code",
      "execution_count": null,
      "id": "ea145d63",
      "metadata": {
        "id": "ea145d63"
      },
      "outputs": [],
      "source": [
        "from sklearn.metrics import accuracy_score\n",
        "accuracy_score(yy_test, yy_pred)"
      ]
    },
    {
      "cell_type": "code",
      "execution_count": null,
      "id": "42ffbea4",
      "metadata": {
        "id": "42ffbea4"
      },
      "outputs": [],
      "source": [
        "from sklearn.metrics import accuracy_score\n",
        "print('Accuracy ', 100* accuracy_score(yy_test, yy_pred))"
      ]
    },
    {
      "cell_type": "code",
      "execution_count": null,
      "id": "379afd28",
      "metadata": {
        "id": "379afd28"
      },
      "outputs": [],
      "source": [
        "from sklearn.metrics import confusion_matrix\n",
        "conf_mx = confusion_matrix(yy_test, yy_pred)\n",
        "print('Confusion matrix: \\n{0}'.format(conf_mx))"
      ]
    },
    {
      "cell_type": "code",
      "execution_count": null,
      "id": "62723b2a",
      "metadata": {
        "id": "62723b2a",
        "outputId": "e3a67879-f025-4af6-9dc2-4370ab8434f5"
      },
      "outputs": [
        {
          "name": "stdout",
          "output_type": "stream",
          "text": [
            "              precision    recall  f1-score   support\n",
            "\n",
            "     class 0       0.06      0.02      0.03       721\n",
            "     class 1       0.09      0.40      0.15       734\n",
            "     class 2       0.00      0.00      0.00       769\n",
            "     class 3       0.00      0.00      0.00       768\n",
            "     class 4       0.09      0.30      0.14       704\n",
            "     class 5       0.11      0.01      0.02       763\n",
            "     class 6       0.09      0.03      0.04       749\n",
            "     class 7       0.09      0.08      0.08       755\n",
            "     class 8       0.10      0.05      0.07       771\n",
            "     class 9       0.09      0.06      0.07       766\n",
            "\n",
            "    accuracy                           0.09      7500\n",
            "   macro avg       0.07      0.09      0.06      7500\n",
            "weighted avg       0.07      0.09      0.06      7500\n",
            "\n"
          ]
        },
        {
          "name": "stderr",
          "output_type": "stream",
          "text": [
            "E:\\anaconda\\envs\\tensorflow\\lib\\site-packages\\sklearn\\metrics\\_classification.py:1308: UndefinedMetricWarning: Precision and F-score are ill-defined and being set to 0.0 in labels with no predicted samples. Use `zero_division` parameter to control this behavior.\n",
            "  _warn_prf(average, modifier, msg_start, len(result))\n",
            "E:\\anaconda\\envs\\tensorflow\\lib\\site-packages\\sklearn\\metrics\\_classification.py:1308: UndefinedMetricWarning: Precision and F-score are ill-defined and being set to 0.0 in labels with no predicted samples. Use `zero_division` parameter to control this behavior.\n",
            "  _warn_prf(average, modifier, msg_start, len(result))\n",
            "E:\\anaconda\\envs\\tensorflow\\lib\\site-packages\\sklearn\\metrics\\_classification.py:1308: UndefinedMetricWarning: Precision and F-score are ill-defined and being set to 0.0 in labels with no predicted samples. Use `zero_division` parameter to control this behavior.\n",
            "  _warn_prf(average, modifier, msg_start, len(result))\n"
          ]
        }
      ],
      "source": [
        "from sklearn.metrics import classification_report\n",
        "target_names = ['class 0', 'class 1', 'class 2','class 3','class 4', 'class 5', 'class 6','class 7','class 8', 'class 9']\n",
        "print(classification_report(yy_test, yy_pred, target_names=target_names))"
      ]
    },
    {
      "cell_type": "code",
      "execution_count": null,
      "id": "71349f37",
      "metadata": {
        "id": "71349f37",
        "outputId": "29568a88-facc-4ae8-9097-e472e71b4e62"
      },
      "outputs": [
        {
          "name": "stdout",
          "output_type": "stream",
          "text": [
            "Iteration 0, loss = 2.321522655303878\n",
            "Iteration 1, loss = 2.310052098352539\n",
            "Iteration 2, loss = 2.3075821236759855\n",
            "Iteration 3, loss = 2.305809096101654\n",
            "Iteration 4, loss = 2.304398656236039\n"
          ]
        },
        {
          "data": {
            "text/plain": [
              "Text(0, 0.5, '1-accuracy')"
            ]
          },
          "execution_count": 29,
          "metadata": {},
          "output_type": "execute_result"
        },
        {
          "data": {
            "image/png": "[encoded data removed]",
            "text/plain": [
              "<Figure size 432x288 with 1 Axes>"
            ]
          },
          "metadata": {
            "needs_background": "light"
          },
          "output_type": "display_data"
        }
      ],
      "source": [
        "import warnings\n",
        "from sklearn.neural_network import MLPClassifier\n",
        "nEpochs = 5\n",
        "\n",
        "nn_clf = MLPClassifier(max_iter=1,warm_start='true',solver='sgd')\n",
        "\n",
        "train_errors, test_errors = [], []\n",
        "\n",
        "for epoch in range(nEpochs): \n",
        "    with warnings.catch_warnings():\n",
        "        warnings.simplefilter(\"ignore\")\n",
        "        nn_clf.fit(bb_train, yy_train)\n",
        "    print(f'Iteration {epoch}, loss = {nn_clf.loss_}')\n",
        "    train_errors.append(1-accuracy_score(yy_train, nn_clf.predict(bb_train)))\n",
        "    test_errors.append(1-accuracy_score(yy_test, nn_clf.predict(bb_test)))\n",
        "    \n",
        "plt.plot(np.sqrt(train_errors), \"r-+\", linewidth=2, label=\"train\")\n",
        "plt.plot(np.sqrt(test_errors), \"b-\", linewidth=3, label=\"test\")\n",
        "plt.legend(loc=\"upper right\", fontsize=14)\n",
        "plt.xlabel(\"Epochs\", fontsize=14)\n",
        "plt.ylabel(\"1-accuracy\", fontsize=14) "
      ]
    },
    {
      "cell_type": "code",
      "execution_count": null,
      "id": "62f56f65",
      "metadata": {
        "id": "62f56f65",
        "outputId": "0034234a-4353-42fd-b5cb-00552bf38a75"
      },
      "outputs": [
        {
          "name": "stdout",
          "output_type": "stream",
          "text": [
            "Number of layers 3\n",
            "Layer 0: Weights (2025, 100) Bias (100,)\n",
            "Layer 1: Weights (100, 10) Bias (10,)\n"
          ]
        }
      ],
      "source": [
        "print(f'Number of layers {nn_clf.n_layers_}')\n",
        "for lyr in range(nn_clf.n_layers_-1):\n",
        "    print('Layer {0}: Weights {1} Bias {2}'.format(lyr,nn_clf.coefs_[lyr].shape, nn_clf.intercepts_[lyr].shape))"
      ]
    },
    {
      "cell_type": "code",
      "execution_count": null,
      "id": "96eedc43",
      "metadata": {
        "id": "96eedc43",
        "outputId": "92902648-5734-4ae0-e2a6-f5e43629a56a"
      },
      "outputs": [
        {
          "name": "stdout",
          "output_type": "stream",
          "text": [
            "Classifier accuracy on the training set is 0.10884705882352941 \n",
            "Classifier accuracy on the test set is 0.1024 \n"
          ]
        }
      ],
      "source": [
        "from sklearn.metrics import accuracy_score\n",
        "\n",
        "y_pred = nn_clf.predict(bb_train)\n",
        "y_pred_test = nn_clf.predict(bb_test)\n",
        "print('Classifier accuracy on the training set is {0} '.format(accuracy_score(yy_train, y_pred)))\n",
        "print('Classifier accuracy on the test set is {0} '.format(accuracy_score(yy_test, y_pred_test)))"
      ]
    },
    {
      "cell_type": "code",
      "execution_count": null,
      "id": "60f9043c",
      "metadata": {
        "id": "60f9043c"
      },
      "outputs": [],
      "source": [
        ""
      ]
    },
    {
      "cell_type": "code",
      "execution_count": null,
      "id": "39a79ed3",
      "metadata": {
        "id": "39a79ed3"
      },
      "outputs": [],
      "source": [
        ""
      ]
    },
    {
      "cell_type": "code",
      "execution_count": null,
      "id": "07c8084f",
      "metadata": {
        "id": "07c8084f"
      },
      "outputs": [],
      "source": [
        ""
      ]
    },
    {
      "cell_type": "code",
      "execution_count": null,
      "id": "51105504",
      "metadata": {
        "id": "51105504"
      },
      "outputs": [],
      "source": [
        ""
      ]
    },
    {
      "cell_type": "code",
      "execution_count": null,
      "id": "875b45f4",
      "metadata": {
        "id": "875b45f4"
      },
      "outputs": [],
      "source": [
        ""
      ]
    },
    {
      "cell_type": "code",
      "execution_count": null,
      "id": "e64dfc0b",
      "metadata": {
        "id": "e64dfc0b"
      },
      "outputs": [],
      "source": [
        ""
      ]
    },
    {
      "cell_type": "code",
      "execution_count": null,
      "id": "3798c341",
      "metadata": {
        "id": "3798c341"
      },
      "outputs": [],
      "source": [
        ""
      ]
    },
    {
      "cell_type": "code",
      "execution_count": null,
      "id": "c390db81",
      "metadata": {
        "id": "c390db81"
      },
      "outputs": [],
      "source": [
        ""
      ]
    },
    {
      "cell_type": "code",
      "execution_count": null,
      "id": "bc68b15a",
      "metadata": {
        "id": "bc68b15a"
      },
      "outputs": [],
      "source": [
        ""
      ]
    },
    {
      "cell_type": "code",
      "execution_count": null,
      "id": "490cddb3",
      "metadata": {
        "id": "490cddb3"
      },
      "outputs": [],
      "source": [
        ""
      ]
    },
    {
      "cell_type": "code",
      "execution_count": null,
      "id": "29943bac",
      "metadata": {
        "id": "29943bac"
      },
      "outputs": [],
      "source": [
        ""
      ]
    },
    {
      "cell_type": "code",
      "execution_count": null,
      "id": "45abad6b",
      "metadata": {
        "id": "45abad6b"
      },
      "outputs": [],
      "source": [
        "def copyfile(filename, target_dir):\n",
        "    \"\"\"Copy a file into a target directory.\"\"\"\n",
        "    os.makedirs(target_dir, exist_ok=True)\n",
        "    shutil.copy(filename, target_dir)"
      ]
    },
    {
      "cell_type": "code",
      "execution_count": null,
      "id": "3c0fa502",
      "metadata": {
        "id": "3c0fa502"
      },
      "outputs": [],
      "source": [
        "def reorg_train_valid(data_dir, labels, valid_ratio):\n",
        "    \"\"\"Split the validation set out of the original training set.\"\"\"\n",
        "    # The number of examples of the class that has the fewest examples in the\n",
        "    # training dataset\n",
        "    n = collections.Counter(labels.values()).most_common()[-1][1]\n",
        "    # The number of examples per class for the validation set\n",
        "    n_valid_per_label = max(1, math.floor(n * valid_ratio))\n",
        "    label_count = {}\n",
        "    for train_file in os.listdir(os.path.join(data_dir, 'train')):\n",
        "        label = labels[train_file.split('.')[0]]\n",
        "        fname = os.path.join(data_dir, 'train', train_file)\n",
        "        copyfile(\n",
        "            fname,\n",
        "            os.path.join(data_dir, 'train_valid_test', 'train_valid', label))\n",
        "        if label not in label_count or label_count[label] < n_valid_per_label:\n",
        "            copyfile(\n",
        "                fname,\n",
        "                os.path.join(data_dir, 'train_valid_test', 'valid', label))\n",
        "            label_count[label] = label_count.get(label, 0) + 1\n",
        "        else:\n",
        "            copyfile(\n",
        "                fname,\n",
        "                os.path.join(data_dir, 'train_valid_test', 'train', label))\n",
        "    return n_valid_per_label"
      ]
    },
    {
      "cell_type": "code",
      "execution_count": null,
      "id": "57d1c288",
      "metadata": {
        "id": "57d1c288"
      },
      "outputs": [],
      "source": [
        "def reorg_test(data_dir):\n",
        "    \"\"\"Organize the testing set for data loading during prediction.\"\"\"\n",
        "    for test_file in os.listdir(os.path.join(data_dir, 'test')):\n",
        "        copyfile(\n",
        "            os.path.join(data_dir, 'test', test_file),\n",
        "            os.path.join(data_dir, 'train_valid_test', 'test', 'unknown'))"
      ]
    },
    {
      "cell_type": "code",
      "execution_count": null,
      "id": "ce2e0670",
      "metadata": {
        "id": "ce2e0670"
      },
      "outputs": [],
      "source": [
        "def reorg_cifar10_data(data_dir, valid_ratio):\n",
        "    labels = read_csv_labels(os.path.join(data_dir, 'trainLabels.csv'))\n",
        "    reorg_train_valid(data_dir, labels, valid_ratio)\n",
        "    reorg_test(data_dir)"
      ]
    },
    {
      "cell_type": "code",
      "execution_count": null,
      "id": "7fee502d",
      "metadata": {
        "id": "7fee502d"
      },
      "outputs": [],
      "source": [
        ""
      ]
    },
    {
      "cell_type": "code",
      "execution_count": null,
      "id": "edab492b",
      "metadata": {
        "id": "edab492b"
      },
      "outputs": [],
      "source": [
        "\n"
      ]
    },
    {
      "cell_type": "code",
      "execution_count": null,
      "id": "85b77564",
      "metadata": {
        "id": "85b77564"
      },
      "outputs": [],
      "source": [
        ""
      ]
    }
  ],
  "metadata": {
    "kernelspec": {
      "display_name": "Python 3 (ipykernel)",
      "language": "python",
      "name": "python3"
    },
    "language_info": {
      "codemirror_mode": {
        "name": "ipython",
        "version": 3
      },
      "file_extension": ".py",
      "mimetype": "text/x-python",
      "name": "python",
      "nbconvert_exporter": "python",
      "pygments_lexer": "ipython3",
      "version": "3.8.11"
    },
    "colab": {
      "name": "cifar logistic.ipynb",
      "provenance": [],
      "collapsed_sections": [],
      "include_colab_link": true
    }
  },
  "nbformat": 4,
  "nbformat_minor": 5
}